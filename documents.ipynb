{
 "cells": [
  {
   "cell_type": "code",
   "execution_count": 10,
   "metadata": {},
   "outputs": [],
   "source": [
    "## document datastructure\n",
    "\n",
    "from langchain.schema import Document\n",
    "from langchain_core.documents import Document"
   ]
  },
  {
   "cell_type": "code",
   "execution_count": 11,
   "metadata": {},
   "outputs": [],
   "source": [
    "doc = Document(\n",
    "    page_content = \"this is the main text content I am using to create RAG\",\n",
    "    metadata = {\n",
    "        \"source\":\"example.txt\",\n",
    "        \"pages\":1,\n",
    "        \"author\": \"Sannidhi\",\n",
    "        \"date_created\": \"2025-10-29\"\n",
    "    }\n",
    ")"
   ]
  },
  {
   "cell_type": "code",
   "execution_count": 12,
   "metadata": {},
   "outputs": [
    {
     "data": {
      "text/plain": [
       "Document(metadata={'source': 'example.txt', 'pages': 1, 'author': 'Sannidhi', 'date_created': '2025-10-29'}, page_content='this is the main text content I am using to create RAG')"
      ]
     },
     "execution_count": 12,
     "metadata": {},
     "output_type": "execute_result"
    }
   ],
   "source": [
    "doc"
   ]
  },
  {
   "cell_type": "code",
   "execution_count": 13,
   "metadata": {},
   "outputs": [],
   "source": [
    "## create s simple text file\n",
    "import os\n",
    "os.makedirs('../data/text_files', exist_ok = True)"
   ]
  },
  {
   "cell_type": "code",
   "execution_count": 14,
   "metadata": {},
   "outputs": [
    {
     "name": "stdout",
     "output_type": "stream",
     "text": [
      "Sample text files created!\n"
     ]
    }
   ],
   "source": [
    "sample_texts = {\n",
    "    \"../data/text_files/python_intro.txt\": \"\"\"\n",
    "    \n",
    "    Python Introduction\n",
    "\n",
    "Python is a high-level, interpreted programming language known for its simplicity, readability, and versatility. It was created by Guido van Rossum and first released in 1991. Python emphasizes code readability with its clean and easy-to-understand syntax, making it beginner-friendly yet powerful for advanced programming.\n",
    "\n",
    "Key Features of Python\n",
    "\n",
    "Simple and Readable: Easy syntax resembling natural language.\n",
    "\n",
    "Interpreted Language: Code is executed line by line, no compilation needed.\n",
    "\n",
    "Dynamically Typed: No need to declare variable types explicitly.\n",
    "\n",
    "Cross-Platform: Runs on Windows, Linux, macOS, etc.\n",
    "\n",
    "Extensive Libraries: Rich ecosystem for web development, data science, machine learning, AI, automation, and more.\n",
    "\n",
    "Open Source: Free to use and supported by a large community.\n",
    "\n",
    "Common Uses\n",
    "\n",
    "Web development (Django, Flask)\n",
    "\n",
    "Data Science & Machine Learning (Pandas, NumPy, Scikit-learn, TensorFlow, PyTorch)\n",
    "\n",
    "Automation and scripting\n",
    "\n",
    "Game development (Pygame)\n",
    "\n",
    "Desktop applications (Tkinter, PyQt)\n",
    "\n",
    "Python’s versatility and ease of learning make it one of the most popular languages for beginners and professionals alike.\n",
    "    \"\"\"\n",
    "}\n",
    "\n",
    "for filepath, content in sample_texts.items():\n",
    "    with open(filepath, 'w', encoding='utf-8') as f:\n",
    "        f.write(content)\n",
    "\n",
    "print(\"Sample text files created!\")"
   ]
  },
  {
   "cell_type": "code",
   "execution_count": 15,
   "metadata": {},
   "outputs": [],
   "source": [
    "## TextLoader\n",
    "\n",
    "from langchain.document_loaders import TextLoader\n",
    "from langchain_community.document_loaders import TextLoader"
   ]
  },
  {
   "cell_type": "code",
   "execution_count": 16,
   "metadata": {},
   "outputs": [
    {
     "data": {
      "text/plain": [
       "<langchain_community.document_loaders.text.TextLoader at 0x174049240>"
      ]
     },
     "execution_count": 16,
     "metadata": {},
     "output_type": "execute_result"
    }
   ],
   "source": [
    "loader = TextLoader('../data/text_files/python_intro.txt', encoding='utf-8')\n",
    "loader"
   ]
  },
  {
   "cell_type": "code",
   "execution_count": 17,
   "metadata": {},
   "outputs": [
    {
     "data": {
      "text/plain": [
       "[Document(metadata={'source': '../data/text_files/python_intro.txt'}, page_content='\\n    \\n    Python Introduction\\n\\nPython is a high-level, interpreted programming language known for its simplicity, readability, and versatility. It was created by Guido van Rossum and first released in 1991. Python emphasizes code readability with its clean and easy-to-understand syntax, making it beginner-friendly yet powerful for advanced programming.\\n\\nKey Features of Python\\n\\nSimple and Readable: Easy syntax resembling natural language.\\n\\nInterpreted Language: Code is executed line by line, no compilation needed.\\n\\nDynamically Typed: No need to declare variable types explicitly.\\n\\nCross-Platform: Runs on Windows, Linux, macOS, etc.\\n\\nExtensive Libraries: Rich ecosystem for web development, data science, machine learning, AI, automation, and more.\\n\\nOpen Source: Free to use and supported by a large community.\\n\\nCommon Uses\\n\\nWeb development (Django, Flask)\\n\\nData Science & Machine Learning (Pandas, NumPy, Scikit-learn, TensorFlow, PyTorch)\\n\\nAutomation and scripting\\n\\nGame development (Pygame)\\n\\nDesktop applications (Tkinter, PyQt)\\n\\nPython’s versatility and ease of learning make it one of the most popular languages for beginners and professionals alike.\\n    ')]"
      ]
     },
     "execution_count": 17,
     "metadata": {},
     "output_type": "execute_result"
    }
   ],
   "source": [
    "document_1 = loader.load()\n",
    "document_1"
   ]
  },
  {
   "cell_type": "code",
   "execution_count": 18,
   "metadata": {},
   "outputs": [],
   "source": [
    "## Directory Loader\n",
    "\n",
    "from langchain_community.document_loaders import DirectoryLoader\n"
   ]
  },
  {
   "cell_type": "code",
   "execution_count": 19,
   "metadata": {},
   "outputs": [
    {
     "data": {
      "text/plain": [
       "[Document(metadata={'source': '../data/text_files/python_intro.txt'}, page_content='\\n    \\n    Python Introduction\\n\\nPython is a high-level, interpreted programming language known for its simplicity, readability, and versatility. It was created by Guido van Rossum and first released in 1991. Python emphasizes code readability with its clean and easy-to-understand syntax, making it beginner-friendly yet powerful for advanced programming.\\n\\nKey Features of Python\\n\\nSimple and Readable: Easy syntax resembling natural language.\\n\\nInterpreted Language: Code is executed line by line, no compilation needed.\\n\\nDynamically Typed: No need to declare variable types explicitly.\\n\\nCross-Platform: Runs on Windows, Linux, macOS, etc.\\n\\nExtensive Libraries: Rich ecosystem for web development, data science, machine learning, AI, automation, and more.\\n\\nOpen Source: Free to use and supported by a large community.\\n\\nCommon Uses\\n\\nWeb development (Django, Flask)\\n\\nData Science & Machine Learning (Pandas, NumPy, Scikit-learn, TensorFlow, PyTorch)\\n\\nAutomation and scripting\\n\\nGame development (Pygame)\\n\\nDesktop applications (Tkinter, PyQt)\\n\\nPython’s versatility and ease of learning make it one of the most popular languages for beginners and professionals alike.\\n    ')]"
      ]
     },
     "execution_count": 19,
     "metadata": {},
     "output_type": "execute_result"
    }
   ],
   "source": [
    "## load all the text files from the directory\n",
    "dir_loader =  DirectoryLoader(\n",
    "    \"../data/text_files\",\n",
    "    glob=\"**/*.txt\",\n",
    "    loader_cls = TextLoader,\n",
    "    loader_kwargs = {'encoding': 'utf-8'},\n",
    "    show_progress = False\n",
    ")\n",
    "documents = dir_loader.load()\n",
    "documents"
   ]
  },
  {
   "cell_type": "code",
   "execution_count": 20,
   "metadata": {},
   "outputs": [],
   "source": [
    "## Read all the pdf files\n",
    "from langchain_community.document_loaders import PyPDFLoader, PyMuPDFLoader\n"
   ]
  },
  {
   "cell_type": "code",
   "execution_count": 21,
   "metadata": {},
   "outputs": [
    {
     "data": {
      "text/plain": [
       "[]"
      ]
     },
     "execution_count": 21,
     "metadata": {},
     "output_type": "execute_result"
    }
   ],
   "source": [
    "## load all the pdf files from the directory\n",
    "dir_loader =  DirectoryLoader(\n",
    "    \"../data/pdf_files\",\n",
    "    glob=\"**/*.txt\",\n",
    "    loader_cls = PyMuPDFLoader,\n",
    "    loader_kwargs = {'encoding': 'utf-8'},\n",
    "    show_progress = False\n",
    ")\n",
    "documents = dir_loader.load()\n",
    "documents"
   ]
  },
  {
   "cell_type": "code",
   "execution_count": 22,
   "metadata": {},
   "outputs": [
    {
     "name": "stderr",
     "output_type": "stream",
     "text": [
      "/Users/sannidhibookseller/Documents/Practicals/Python/venv/lib/python3.10/site-packages/bitsandbytes/cextension.py:34: UserWarning: The installed version of bitsandbytes was compiled without GPU support. 8-bit optimizers, 8-bit multiplication, and GPU quantization are unavailable.\n",
      "  warn(\"The installed version of bitsandbytes was compiled without GPU support. \"\n"
     ]
    },
    {
     "name": "stdout",
     "output_type": "stream",
     "text": [
      "'NoneType' object has no attribute 'cadam32bit_grad_fp32'\n"
     ]
    }
   ],
   "source": [
    "## embedding and vectorstorDB\n",
    "import numpy as np\n",
    "from sentence_transformers import SentenceTransformer\n",
    "import chromadb\n",
    "from chromadb.config import Settings\n",
    "import uuid\n",
    "from typing import List, Dict, Any, Tuple\n",
    "from sklearn.metrics.pairwise import cosine_similarity"
   ]
  },
  {
   "cell_type": "code",
   "execution_count": 23,
   "metadata": {},
   "outputs": [
    {
     "name": "stdout",
     "output_type": "stream",
     "text": [
      "Loading embedding model: all-MiniLM-L6-v2\n",
      "Model loaded successfully. Embedding dimension: 384\n"
     ]
    },
    {
     "data": {
      "text/plain": [
       "<__main__.EmbeddingManager at 0x363a69360>"
      ]
     },
     "execution_count": 23,
     "metadata": {},
     "output_type": "execute_result"
    }
   ],
   "source": [
    "class EmbeddingManager:\n",
    "    def __init__(self, model_name: str = 'all-MiniLM-L6-v2'):\n",
    "        \"\"\"\n",
    "        Initialize the embedding manager\n",
    "        args: model_name: HuggingFace model name for sentence embeddings\n",
    "        \"\"\"\n",
    "        self.model_name = model_name\n",
    "        self.model: SentenceTransformer | None = None\n",
    "        self._load_model()\n",
    "\n",
    "    def _load_model(self):\n",
    "        # load the sentence transformer model \n",
    "        try:\n",
    "            print(f\"Loading embedding model: {self.model_name}\")\n",
    "            self.model = SentenceTransformer(self.model_name)\n",
    "            print(f\"Model loaded successfully. Embedding dimension: {self.model.get_sentence_embedding_dimension()}\")\n",
    "        except Exception as e:\n",
    "            print(f\"Error loading model {self.model_name}: {e}\")\n",
    "            raise\n",
    "\n",
    "    def generate_embeddings(self, texts: List[str]) -> np.ndarray:\n",
    "        \"\"\"Generate embeddings for a list of texts\"\"\"\n",
    "        if not self.model:\n",
    "            raise ValueError(\"Model not loaded\")\n",
    "        print(f\"Generating embeddings for {len(texts)} texts...\")\n",
    "        embeddings = self.model.encode(texts, show_progress_bar=True)\n",
    "        print(f\"Generated embeddings with shape: {embeddings.shape}\")\n",
    "        return embeddings\n",
    "\n",
    "## Initialize the embedding manager\n",
    "embedding_manager = EmbeddingManager()\n",
    "embedding_manager"
   ]
  },
  {
   "cell_type": "code",
   "execution_count": 24,
   "metadata": {},
   "outputs": [
    {
     "name": "stdout",
     "output_type": "stream",
     "text": [
      "Vector store initialized. Collection: text_documents\n",
      "Existing documents in collection: 3\n"
     ]
    },
    {
     "data": {
      "text/plain": [
       "<__main__.VectorStore at 0x368942710>"
      ]
     },
     "execution_count": 24,
     "metadata": {},
     "output_type": "execute_result"
    }
   ],
   "source": [
    "class VectorStore:\n",
    "    # Manage document embeddings in a ChromaDB vector store\n",
    "\n",
    "    def __init__(self, collection_name: str = \"text_documents\", persist_directory: str = \"../data/vector_store\"):\n",
    "        self.collection_name = collection_name\n",
    "        self.persist_directory = persist_directory\n",
    "        self.client = None\n",
    "        self.collection = None\n",
    "        self._initialize_store()\n",
    "\n",
    "    def _initialize_store(self):\n",
    "        try:\n",
    "            os.makedirs(self.persist_directory, exist_ok=True)\n",
    "            self.client = chromadb.PersistentClient(path=self.persist_directory)\n",
    "\n",
    "            # Get or create collection\n",
    "            self.collection = self.client.get_or_create_collection(\n",
    "                name=self.collection_name,\n",
    "                metadata={'description': \"Text document embeddings for RAG\"}\n",
    "            )\n",
    "            print(f\"Vector store initialized. Collection: {self.collection_name}\")\n",
    "            print(f\"Existing documents in collection: {self.collection.count()}\")\n",
    "        except Exception as e:\n",
    "            print(f\"Error initializing vector store: {e}\")\n",
    "            raise\n",
    "\n",
    "    def add_documents(self, documents: List[Any], embeddings: np.ndarray):\n",
    "        \"\"\"\n",
    "        Add documents and their embeddings to the vector store\n",
    "\n",
    "        Args:\n",
    "            documents: List of LangChain Document objects\n",
    "            embeddings: Corresponding embeddings as a numpy array\n",
    "        \"\"\"\n",
    "        if len(documents) != len(embeddings):\n",
    "            raise ValueError(\"Number of documents must match number of embeddings\")\n",
    "        print(f\"Adding {len(documents)} documents to vector store...\")\n",
    "\n",
    "        ids = []\n",
    "        metadatas = []\n",
    "        documents_text = []\n",
    "        embeddings_list = []\n",
    "\n",
    "        for i, (doc, embedding) in enumerate(zip(documents, embeddings)):\n",
    "            doc_id = f\"doc_{uuid.uuid4().hex[:8]}_{i}\"\n",
    "            ids.append(doc_id)\n",
    "\n",
    "            metadata = dict(doc.metadata)\n",
    "            metadata['doc_index'] = i\n",
    "            metadata['content_length'] = len(doc.page_content)\n",
    "            metadatas.append(metadata)\n",
    "\n",
    "            documents_text.append(doc.page_content)\n",
    "            embeddings_list.append(embedding.tolist())\n",
    "\n",
    "        try:\n",
    "            self.collection.add(\n",
    "                ids=ids,\n",
    "                embeddings=embeddings_list,\n",
    "                metadatas=metadatas,\n",
    "                documents=documents_text\n",
    "            )\n",
    "            print(f\"Successfully added {len(documents)} documents to vector store\")\n",
    "            print(f\"Total documents in collection: {self.collection.count()}\")\n",
    "        except Exception as e:\n",
    "            print(f\"Error adding documents to vector store: {e}\")\n",
    "            raise\n",
    "\n",
    "vectorstore = VectorStore()\n",
    "vectorstore"
   ]
  },
  {
   "cell_type": "code",
   "execution_count": 25,
   "metadata": {},
   "outputs": [],
   "source": [
    "## create chunks\n",
    "\n",
    "from langchain.text_splitter import RecursiveCharacterTextSplitter\n",
    "text_splitter = RecursiveCharacterTextSplitter(\n",
    "    chunk_size=500,       # Number of characters per chunk\n",
    "    chunk_overlap=50      # Overlap between chunks\n",
    ")"
   ]
  },
  {
   "cell_type": "code",
   "execution_count": 26,
   "metadata": {},
   "outputs": [
    {
     "name": "stdout",
     "output_type": "stream",
     "text": [
      "Total chunks created: 3\n"
     ]
    }
   ],
   "source": [
    "chunked_documents = []\n",
    "for doc in document_1:\n",
    "    chunks = text_splitter.split_text(doc.page_content)\n",
    "    for i, chunk in enumerate(chunks):\n",
    "        chunked_documents.append(\n",
    "            Document(\n",
    "                page_content=chunk,\n",
    "                metadata={**doc.metadata, \"chunk_index\": i}\n",
    "            )\n",
    "        )\n",
    "\n",
    "print(f\"Total chunks created: {len(chunked_documents)}\")"
   ]
  },
  {
   "cell_type": "code",
   "execution_count": 27,
   "metadata": {},
   "outputs": [
    {
     "data": {
      "text/plain": [
       "['Python Introduction\\n\\nPython is a high-level, interpreted programming language known for its simplicity, readability, and versatility. It was created by Guido van Rossum and first released in 1991. Python emphasizes code readability with its clean and easy-to-understand syntax, making it beginner-friendly yet powerful for advanced programming.\\n\\nKey Features of Python\\n\\nSimple and Readable: Easy syntax resembling natural language.',\n",
       " 'Interpreted Language: Code is executed line by line, no compilation needed.\\n\\nDynamically Typed: No need to declare variable types explicitly.\\n\\nCross-Platform: Runs on Windows, Linux, macOS, etc.\\n\\nExtensive Libraries: Rich ecosystem for web development, data science, machine learning, AI, automation, and more.\\n\\nOpen Source: Free to use and supported by a large community.\\n\\nCommon Uses\\n\\nWeb development (Django, Flask)',\n",
       " 'Common Uses\\n\\nWeb development (Django, Flask)\\n\\nData Science & Machine Learning (Pandas, NumPy, Scikit-learn, TensorFlow, PyTorch)\\n\\nAutomation and scripting\\n\\nGame development (Pygame)\\n\\nDesktop applications (Tkinter, PyQt)\\n\\nPython’s versatility and ease of learning make it one of the most popular languages for beginners and professionals alike.']"
      ]
     },
     "execution_count": 27,
     "metadata": {},
     "output_type": "execute_result"
    }
   ],
   "source": [
    "texts = [doc.page_content for doc in chunked_documents]\n",
    "texts"
   ]
  },
  {
   "cell_type": "code",
   "execution_count": 28,
   "metadata": {},
   "outputs": [
    {
     "name": "stdout",
     "output_type": "stream",
     "text": [
      "Generating embeddings for 3 texts...\n"
     ]
    },
    {
     "name": "stderr",
     "output_type": "stream",
     "text": [
      "Batches: 100%|██████████| 1/1 [00:00<00:00,  3.11it/s]"
     ]
    },
    {
     "name": "stdout",
     "output_type": "stream",
     "text": [
      "Generated embeddings with shape: (3, 384)\n",
      "Adding 3 documents to vector store...\n",
      "Successfully added 3 documents to vector store\n",
      "Total documents in collection: 6\n"
     ]
    },
    {
     "name": "stderr",
     "output_type": "stream",
     "text": [
      "\n"
     ]
    }
   ],
   "source": [
    "## genertae the embeddings\n",
    "embeddings = embedding_manager.generate_embeddings(texts)\n",
    "\n",
    "## store into the vectore database\n",
    "vectorstore.add_documents(chunked_documents, embeddings)"
   ]
  },
  {
   "cell_type": "code",
   "execution_count": 29,
   "metadata": {},
   "outputs": [
    {
     "data": {
      "text/plain": [
       "<__main__.RAGRetriever at 0x368c1fcd0>"
      ]
     },
     "execution_count": 29,
     "metadata": {},
     "output_type": "execute_result"
    }
   ],
   "source": [
    "## Retriever Pipeline from vectorestore\n",
    "\n",
    "class RAGRetriever:\n",
    "\n",
    "    def __init__(self, vector_store: VectorStore, embedding_manager: EmbeddingManager):\n",
    "\n",
    "        self.vector_store = vector_store\n",
    "        self.embedding_manager = embedding_manager\n",
    "\n",
    "    def retrieve(self, query: str, top_k: int = 5, score_threshold: float = 0.0) -> List[Dict[str, Any]]:\n",
    "        \"\"\"\n",
    "        Retrieve relevant documents for a query\n",
    "        \n",
    "        Args:\n",
    "            query: The search query\n",
    "            top_k: Number of top results to return\n",
    "            score_threshold: Minimum similarity score threshold\n",
    "            \n",
    "        Returns:\n",
    "            List of dictionaries containing retrieved documents and metadata\n",
    "        \"\"\"\n",
    "        print(f\"Retrieving documents for query: '{query}'\")\n",
    "        print(f\"Top K: {top_k}, Score threshold: {score_threshold}\")\n",
    "        \n",
    "        # Generate query embedding\n",
    "        query_embedding = self.embedding_manager.generate_embeddings([query])[0]\n",
    "        \n",
    "        # Search in vector store\n",
    "        try:\n",
    "            results = self.vector_store.collection.query(\n",
    "                query_embeddings=[query_embedding.tolist()],\n",
    "                n_results=top_k\n",
    "            )\n",
    "            \n",
    "            # Process results\n",
    "            retrieved_docs = []\n",
    "            \n",
    "            if results['documents'] and results['documents'][0]:\n",
    "                documents = results['documents'][0]\n",
    "                metadatas = results['metadatas'][0]\n",
    "                distances = results['distances'][0]\n",
    "                ids = results['ids'][0]\n",
    "                \n",
    "                for i, (doc_id, document, metadata, distance) in enumerate(zip(ids, documents, metadatas, distances)):\n",
    "                    # Convert distance to similarity score (ChromaDB uses cosine distance)\n",
    "                    similarity_score = 1 - distance\n",
    "                    \n",
    "                    if similarity_score >= score_threshold:\n",
    "                        retrieved_docs.append({\n",
    "                            'id': doc_id,\n",
    "                            'content': document,\n",
    "                            'metadata': metadata,\n",
    "                            'similarity_score': similarity_score,\n",
    "                            'distance': distance,\n",
    "                            'rank': i + 1\n",
    "                        })\n",
    "                \n",
    "                print(f\"Retrieved {len(retrieved_docs)} documents (after filtering)\")\n",
    "            else:\n",
    "                print(\"No documents found\")\n",
    "            \n",
    "            return retrieved_docs\n",
    "            \n",
    "        except Exception as e:\n",
    "            print(f\"Error during retrieval: {e}\")\n",
    "            return []\n",
    "\n",
    "rag_retriever=RAGRetriever(vectorstore,embedding_manager)\n",
    "rag_retriever"
   ]
  },
  {
   "cell_type": "code",
   "execution_count": 30,
   "metadata": {},
   "outputs": [
    {
     "name": "stdout",
     "output_type": "stream",
     "text": [
      "Retrieving documents for query: 'What is Python?'\n",
      "Top K: 5, Score threshold: 0.0\n",
      "Generating embeddings for 1 texts...\n"
     ]
    },
    {
     "name": "stderr",
     "output_type": "stream",
     "text": [
      "Batches: 100%|██████████| 1/1 [00:00<00:00,  9.00it/s]"
     ]
    },
    {
     "name": "stdout",
     "output_type": "stream",
     "text": [
      "Generated embeddings with shape: (1, 384)\n",
      "Retrieved 5 documents (after filtering)\n"
     ]
    },
    {
     "name": "stderr",
     "output_type": "stream",
     "text": [
      "\n"
     ]
    },
    {
     "data": {
      "text/plain": [
       "[{'id': 'doc_d9978a5f_0',\n",
       "  'content': 'Python Introduction\\n\\nPython is a high-level, interpreted programming language known for its simplicity, readability, and versatility. It was created by Guido van Rossum and first released in 1991. Python emphasizes code readability with its clean and easy-to-understand syntax, making it beginner-friendly yet powerful for advanced programming.\\n\\nKey Features of Python\\n\\nSimple and Readable: Easy syntax resembling natural language.',\n",
       "  'metadata': {'chunk_index': 0,\n",
       "   'content_length': 431,\n",
       "   'doc_index': 0,\n",
       "   'source': '../data/text_files/python_intro.txt'},\n",
       "  'similarity_score': 0.5865612924098969,\n",
       "  'distance': 0.41343870759010315,\n",
       "  'rank': 1},\n",
       " {'id': 'doc_f5a0da11_0',\n",
       "  'content': 'Python Introduction\\n\\nPython is a high-level, interpreted programming language known for its simplicity, readability, and versatility. It was created by Guido van Rossum and first released in 1991. Python emphasizes code readability with its clean and easy-to-understand syntax, making it beginner-friendly yet powerful for advanced programming.\\n\\nKey Features of Python\\n\\nSimple and Readable: Easy syntax resembling natural language.',\n",
       "  'metadata': {'doc_index': 0,\n",
       "   'content_length': 431,\n",
       "   'chunk_index': 0,\n",
       "   'source': '../data/text_files/python_intro.txt'},\n",
       "  'similarity_score': 0.5865612924098969,\n",
       "  'distance': 0.41343870759010315,\n",
       "  'rank': 2},\n",
       " {'id': 'doc_43ac1258_2',\n",
       "  'content': 'Common Uses\\n\\nWeb development (Django, Flask)\\n\\nData Science & Machine Learning (Pandas, NumPy, Scikit-learn, TensorFlow, PyTorch)\\n\\nAutomation and scripting\\n\\nGame development (Pygame)\\n\\nDesktop applications (Tkinter, PyQt)\\n\\nPython’s versatility and ease of learning make it one of the most popular languages for beginners and professionals alike.',\n",
       "  'metadata': {'content_length': 343,\n",
       "   'doc_index': 2,\n",
       "   'chunk_index': 2,\n",
       "   'source': '../data/text_files/python_intro.txt'},\n",
       "  'similarity_score': 0.2684635519981384,\n",
       "  'distance': 0.7315364480018616,\n",
       "  'rank': 3},\n",
       " {'id': 'doc_5231dd60_2',\n",
       "  'content': 'Common Uses\\n\\nWeb development (Django, Flask)\\n\\nData Science & Machine Learning (Pandas, NumPy, Scikit-learn, TensorFlow, PyTorch)\\n\\nAutomation and scripting\\n\\nGame development (Pygame)\\n\\nDesktop applications (Tkinter, PyQt)\\n\\nPython’s versatility and ease of learning make it one of the most popular languages for beginners and professionals alike.',\n",
       "  'metadata': {'source': '../data/text_files/python_intro.txt',\n",
       "   'chunk_index': 2,\n",
       "   'doc_index': 2,\n",
       "   'content_length': 343},\n",
       "  'similarity_score': 0.2684635519981384,\n",
       "  'distance': 0.7315364480018616,\n",
       "  'rank': 4},\n",
       " {'id': 'doc_4fe0bfcf_1',\n",
       "  'content': 'Interpreted Language: Code is executed line by line, no compilation needed.\\n\\nDynamically Typed: No need to declare variable types explicitly.\\n\\nCross-Platform: Runs on Windows, Linux, macOS, etc.\\n\\nExtensive Libraries: Rich ecosystem for web development, data science, machine learning, AI, automation, and more.\\n\\nOpen Source: Free to use and supported by a large community.\\n\\nCommon Uses\\n\\nWeb development (Django, Flask)',\n",
       "  'metadata': {'doc_index': 1,\n",
       "   'source': '../data/text_files/python_intro.txt',\n",
       "   'chunk_index': 1,\n",
       "   'content_length': 418},\n",
       "  'similarity_score': 0.02216130495071411,\n",
       "  'distance': 0.9778386950492859,\n",
       "  'rank': 5}]"
      ]
     },
     "execution_count": 30,
     "metadata": {},
     "output_type": "execute_result"
    }
   ],
   "source": [
    "rag_retriever.retrieve(\"What is Python?\")"
   ]
  },
  {
   "cell_type": "markdown",
   "metadata": {},
   "source": [
    "Integration VectorDB Context pipeline with LLM Output"
   ]
  },
  {
   "cell_type": "code",
   "execution_count": 31,
   "metadata": {},
   "outputs": [],
   "source": [
    "## simple RAG pipeline with Groq LLM\n",
    "\n",
    "from langchain_groq import ChatGroq\n",
    "import os\n",
    "from dotenv import load_dotenv\n",
    "\n",
    "load_dotenv()\n",
    "\n",
    "groq_api_key = os.getenv('GROK_API_KEY')\n"
   ]
  },
  {
   "cell_type": "code",
   "execution_count": 46,
   "metadata": {},
   "outputs": [],
   "source": [
    "LLM = ChatGroq(groq_api_key=groq_api_key, model_name = 'llama-3.1-8b-instant', temperature = 0.1, max_tokens = 1024)"
   ]
  },
  {
   "cell_type": "code",
   "execution_count": 47,
   "metadata": {},
   "outputs": [],
   "source": [
    "def rag_simple(query, retriever, llm, top_k = 2):\n",
    "    results = retriever.retrieve(query, top_k=top_k)\n",
    "    context = \"\\n\\n\".join([doc['content'] for doc in results] ) if results else \"\"\n",
    "    print(f\"retrieved context: \\n {context} \\n\")\n",
    "    if not context:\n",
    "        return \" No relevant answer find\"\n",
    "\n",
    "    prompt = f\"\"\" Use the following context to answer the question precisely.\n",
    "\n",
    "        Context: {context}\n",
    "        question: {query}\n",
    "        Answer: \n",
    "    \"\"\"\n",
    "    response = llm.invoke([prompt.format(context = context, query=query)])\n",
    "    return response. content\n"
   ]
  },
  {
   "cell_type": "code",
   "execution_count": 48,
   "metadata": {},
   "outputs": [
    {
     "name": "stdout",
     "output_type": "stream",
     "text": [
      "Retrieving documents for query: 'Python is or difficult? '\n",
      "Top K: 2, Score threshold: 0.0\n",
      "Generating embeddings for 1 texts...\n"
     ]
    },
    {
     "name": "stderr",
     "output_type": "stream",
     "text": [
      "Batches: 100%|██████████| 1/1 [00:00<00:00, 28.96it/s]"
     ]
    },
    {
     "name": "stdout",
     "output_type": "stream",
     "text": [
      "Generated embeddings with shape: (1, 384)\n",
      "Retrieved 2 documents (after filtering)\n",
      "retrieved context: \n",
      " Python Introduction\n",
      "\n",
      "Python is a high-level, interpreted programming language known for its simplicity, readability, and versatility. It was created by Guido van Rossum and first released in 1991. Python emphasizes code readability with its clean and easy-to-understand syntax, making it beginner-friendly yet powerful for advanced programming.\n",
      "\n",
      "Key Features of Python\n",
      "\n",
      "Simple and Readable: Easy syntax resembling natural language.\n",
      "\n",
      "Python Introduction\n",
      "\n",
      "Python is a high-level, interpreted programming language known for its simplicity, readability, and versatility. It was created by Guido van Rossum and first released in 1991. Python emphasizes code readability with its clean and easy-to-understand syntax, making it beginner-friendly yet powerful for advanced programming.\n",
      "\n",
      "Key Features of Python\n",
      "\n",
      "Simple and Readable: Easy syntax resembling natural language. \n",
      "\n",
      "Python is simple.\n"
     ]
    },
    {
     "name": "stderr",
     "output_type": "stream",
     "text": [
      "\n"
     ]
    }
   ],
   "source": [
    "answer = rag_simple(\"Python is or difficult? \", rag_retriever, LLM)\n",
    "print(answer)"
   ]
  },
  {
   "cell_type": "markdown",
   "metadata": {},
   "source": [
    "Enhanced RAG Pipeline  Features"
   ]
  },
  {
   "cell_type": "code",
   "execution_count": 51,
   "metadata": {},
   "outputs": [],
   "source": [
    "def rag_advance(query, retriever, llm, top_k=5, mini_score = 0.2, return_context = False):\n",
    "    \"\"\"\n",
    "        RAG Pipeline with an extra feature\n",
    "        - returns answers, sources, confidence score, and optionally fully context\n",
    "    \"\"\"\n",
    "\n",
    "    results = retriever.retrieve(query, top_k=top_k, score_threshold = mini_score)\n",
    "    if not results:\n",
    "        return {'answer': \"no relevant answer found\", 'sources': [], 'confidence': 0.0, 'context': ''}\n",
    "\n",
    "    #prepare context and sources\n",
    "    context = \"\\n\\n\".join([doc['content'] for doc in results] ) \n",
    "    sources = [{\n",
    "        \"sources\": doc['metadata'].get('source_file', doc['metadata'].get('source', 'unkown')),\n",
    "        \"pages\": doc['metadata'].get('page', 'unknown'),\n",
    "        \"score\": doc['similarity_score'],\n",
    "        \"preview\":doc['content'][:120]+ '...'\n",
    "    }for doc in results]\n",
    "\n",
    "    confidence = max([doc['similarity_score'] for doc in results])\n",
    "    \n",
    "    prompt = f\"\"\" Use the following context to answer the question precisely.\n",
    "\n",
    "        Context: {context}\n",
    "        question: {query}\n",
    "        Answer: \n",
    "    \"\"\"\n",
    "\n",
    "    response = llm.invoke([prompt.format(context=context, query=query)])\n",
    "\n",
    "    output = {\n",
    "        'answer': response.content,\n",
    "        'sources': sources,\n",
    "        'confidence': confidence\n",
    "    }\n",
    "\n",
    "    if return_context:\n",
    "        output['context'] = context\n",
    "\n",
    "    return output"
   ]
  },
  {
   "cell_type": "code",
   "execution_count": 52,
   "metadata": {},
   "outputs": [
    {
     "name": "stdout",
     "output_type": "stream",
     "text": [
      "Retrieving documents for query: 'how to learn python?'\n",
      "Top K: 3, Score threshold: 0.2\n",
      "Generating embeddings for 1 texts...\n"
     ]
    },
    {
     "name": "stderr",
     "output_type": "stream",
     "text": [
      "Batches: 100%|██████████| 1/1 [00:00<00:00, 32.10it/s]"
     ]
    },
    {
     "name": "stdout",
     "output_type": "stream",
     "text": [
      "Generated embeddings with shape: (1, 384)\n",
      "Retrieved 2 documents (after filtering)\n"
     ]
    },
    {
     "name": "stderr",
     "output_type": "stream",
     "text": [
      "\n"
     ]
    },
    {
     "data": {
      "text/plain": [
       "{'answer': 'To learn Python, follow these steps:\\n\\n1. **Start with the basics**: Begin with the fundamentals of Python, such as data types, variables, loops, conditional statements, functions, and object-oriented programming.\\n2. **Online Resources**:\\n   - **Codecademy**: Offers interactive coding lessons and exercises.\\n   - **Python.org**: The official Python website provides tutorials, guides, and documentation.\\n   - **W3Schools**: Provides tutorials, examples, and reference materials for Python.\\n   - **Udemy**: Offers a wide range of Python courses for beginners and advanced learners.\\n   - **Coursera**: Partners with top universities to offer Python courses.\\n3. **Practice with Projects**:\\n   - **Start with simple projects**: Build calculators, quizzes, or games to practice your skills.\\n   - **Work on real-world projects**: Apply Python to real-world problems, such as data analysis, web scraping, or automation.\\n4. **Join a Community**:\\n   - **Reddit**: Participate in r/learnpython, r/Python, and other communities to connect with other learners and get help.\\n   - **Stack Overflow**: Ask questions and get answers from experienced Python developers.\\n   - **Local Meetups**: Attend Python meetups and events to network with other Python enthusiasts.\\n5. **Read Books and Documentation**:\\n   - **\"Python Crash Course\" by Eric Matthes**: A comprehensive book for beginners.\\n   - **\"Automate the Boring Stuff with Python\" by Al Sweigart**: A practical book for automating tasks.\\n   - **Python documentation**: Read the official Python documentation to learn about new features and best practices.\\n6. **Take Online Courses**:\\n   - **Python for Everybody** (Coursera): A beginner-friendly course by Charles Severance.\\n   - **Python Data Structures** (Coursera): A course by Charles Severance that covers data structures in Python.\\n7. **Use a Python IDE**:\\n   - **PyCharm**: A popular integrated development environment (IDE) for Python.\\n   - **Visual Studio Code**: A lightweight, open-source code editor that supports Python.\\n8. **Be Patient and Persistent**:\\n   - Learning a programming language takes time and effort.\\n   - Don\\'t be discouraged by setbacks or difficulties – keep practicing and you\\'ll see progress.\\n\\nRemember, learning Python is a continuous process. Stay motivated, and you\\'ll become proficient in this powerful language.',\n",
       " 'sources': [{'sources': '../data/text_files/python_intro.txt',\n",
       "   'pages': 'unknown',\n",
       "   'score': 0.42853212356567383,\n",
       "   'preview': 'Python Introduction\\n\\nPython is a high-level, interpreted programming language known for its simplicity, readability, and...'},\n",
       "  {'sources': '../data/text_files/python_intro.txt',\n",
       "   'pages': 'unknown',\n",
       "   'score': 0.42853212356567383,\n",
       "   'preview': 'Python Introduction\\n\\nPython is a high-level, interpreted programming language known for its simplicity, readability, and...'}],\n",
       " 'confidence': 0.42853212356567383}"
      ]
     },
     "execution_count": 52,
     "metadata": {},
     "output_type": "execute_result"
    }
   ],
   "source": [
    "result =  rag_advance(\"how to learn python?\", rag_retriever, LLM, top_k=3 )\n",
    "result"
   ]
  },
  {
   "cell_type": "code",
   "execution_count": 57,
   "metadata": {},
   "outputs": [
    {
     "name": "stdout",
     "output_type": "stream",
     "text": [
      "Answer: To learn Python, follow these steps:\n",
      "\n",
      "1. **Start with the basics**: Begin with the fundamentals of Python, such as data types, variables, loops, conditional statements, functions, and object-oriented programming.\n",
      "2. **Online Resources**:\n",
      "   - **Codecademy**: Offers interactive coding lessons and exercises.\n",
      "   - **Python.org**: The official Python website provides tutorials, guides, and documentation.\n",
      "   - **W3Schools**: Provides tutorials, examples, and reference materials for Python.\n",
      "   - **Udemy**: Offers a wide range of Python courses for beginners and advanced learners.\n",
      "   - **Coursera**: Partners with top universities to offer Python courses.\n",
      "3. **Practice with Projects**:\n",
      "   - **Start with simple projects**: Build calculators, quizzes, or games to practice your skills.\n",
      "   - **Work on real-world projects**: Apply Python to real-world problems, such as data analysis, web scraping, or automation.\n",
      "4. **Join a Community**:\n",
      "   - **Reddit**: Participate in r/learnpython, r/Python, and other communities to connect with other learners and get help.\n",
      "   - **Stack Overflow**: Ask questions and get answers from experienced Python developers.\n",
      "   - **Local Meetups**: Attend Python meetups and events to network with other Python enthusiasts.\n",
      "5. **Read Books and Documentation**:\n",
      "   - **\"Python Crash Course\" by Eric Matthes**: A comprehensive book for beginners.\n",
      "   - **\"Automate the Boring Stuff with Python\" by Al Sweigart**: A practical book for automating tasks.\n",
      "   - **Python documentation**: Read the official Python documentation to learn about new features and best practices.\n",
      "6. **Take Online Courses**:\n",
      "   - **Python for Everybody** (Coursera): A beginner-friendly course by Charles Severance.\n",
      "   - **Python Data Structures** (Coursera): A course by Charles Severance that covers data structures in Python.\n",
      "7. **Use a Python IDE**:\n",
      "   - **PyCharm**: A popular integrated development environment (IDE) for Python.\n",
      "   - **Visual Studio Code**: A lightweight, open-source code editor that supports Python.\n",
      "8. **Be Patient and Persistent**:\n",
      "   - Learning a programming language takes time and effort.\n",
      "   - Don't be discouraged by setbacks or difficulties – keep practicing and you'll see progress.\n",
      "\n",
      "Remember, learning Python is a continuous process. Stay motivated, and you'll become proficient in this powerful language.\n",
      "Source: [{'sources': '../data/text_files/python_intro.txt', 'pages': 'unknown', 'score': 0.42853212356567383, 'preview': 'Python Introduction\\n\\nPython is a high-level, interpreted programming language known for its simplicity, readability, and...'}, {'sources': '../data/text_files/python_intro.txt', 'pages': 'unknown', 'score': 0.42853212356567383, 'preview': 'Python Introduction\\n\\nPython is a high-level, interpreted programming language known for its simplicity, readability, and...'}]\n",
      "Confidence: 0.42853212356567383\n"
     ]
    }
   ],
   "source": [
    "print('Answer:', result['answer'])\n",
    "print(\"Source:\", result['sources'])\n",
    "print(\"Confidence:\", result['confidence'])\n",
    "# print(\"score:\", result['score'])\n"
   ]
  },
  {
   "cell_type": "code",
   "execution_count": null,
   "metadata": {},
   "outputs": [],
   "source": []
  },
  {
   "cell_type": "code",
   "execution_count": null,
   "metadata": {},
   "outputs": [],
   "source": []
  }
 ],
 "metadata": {
  "kernelspec": {
   "display_name": "Python venv",
   "language": "python",
   "name": "venv"
  }
 },
 "nbformat": 4,
 "nbformat_minor": 2
}
